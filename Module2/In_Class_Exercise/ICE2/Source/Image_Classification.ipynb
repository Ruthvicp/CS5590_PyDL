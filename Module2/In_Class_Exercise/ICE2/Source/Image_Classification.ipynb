{
 "cells": [
  {
   "cell_type": "markdown",
   "metadata": {
    "collapsed": true
   },
   "source": [
    "## Image Classification - Keras, Dataset - MNIST\n",
    "### author:ruthvicp\n",
    "### date : March 22, 2019\n"
   ]
  },
  {
   "cell_type": "markdown",
   "metadata": {},
   "source": [
    "Given below is the code for image classification built on MNIST dataset. The image dimensions are 28*28. "
   ]
  },
  {
   "cell_type": "code",
   "execution_count": 1,
   "metadata": {},
   "outputs": [
    {
     "name": "stderr",
     "output_type": "stream",
     "text": [
      "C:\\Users\\ruthv\\Anaconda3\\lib\\site-packages\\h5py\\__init__.py:36: FutureWarning: Conversion of the second argument of issubdtype from `float` to `np.floating` is deprecated. In future, it will be treated as `np.float64 == np.dtype(float).type`.\n",
      "  from ._conv import register_converters as _register_converters\n",
      "Using TensorFlow backend.\n"
     ]
    }
   ],
   "source": [
    "# Load all the necessary modules\n",
    "from keras import Sequential\n",
    "from keras.datasets import mnist\n",
    "import numpy as np\n",
    "import matplotlib.pyplot as plt\n",
    "from keras.layers import Dense\n",
    "from keras.utils import to_categorical"
   ]
  },
  {
   "cell_type": "code",
   "execution_count": 3,
   "metadata": {},
   "outputs": [
    {
     "data": {
      "image/png": "[encoded data removed]",
      "text/plain": [
       "<Figure size 432x288 with 1 Axes>"
      ]
     },
     "metadata": {},
     "output_type": "display_data"
    }
   ],
   "source": [
    "# Load the dataset and plot a sample image from it\n",
    "(train_images,train_labels),(test_images, test_labels) = mnist.load_data()\n",
    "# display the first image in the training data\n",
    "plt.imshow(train_images[0,:,:],cmap='gray')\n",
    "plt.title('Ground Truth : {}'.format(train_labels[0]))\n",
    "plt.show()"
   ]
  },
  {
   "cell_type": "code",
   "execution_count": 4,
   "metadata": {},
   "outputs": [],
   "source": [
    "#process the data\n",
    "#1. convert each image of shape 28*28 to 784 dimensional which will be fed to the network as a single feature\n",
    "dimData = np.prod(train_images.shape[1:])\n",
    "train_data = train_images.reshape(train_images.shape[0],dimData)\n",
    "test_data = test_images.reshape(test_images.shape[0],dimData)"
   ]
  },
  {
   "cell_type": "code",
   "execution_count": 5,
   "metadata": {},
   "outputs": [],
   "source": [
    "#convert data to float and scale values between 0 and 1\n",
    "train_data = train_data.astype('float')\n",
    "test_data = test_data.astype('float')\n",
    "#scale data\n",
    "train_data /=255.0\n",
    "test_data /=255.0\n",
    "#change the labels frominteger to one-hot encoding\n",
    "train_labels_one_hot = to_categorical(train_labels)\n",
    "test_labels_one_hot = to_categorical(test_labels)"
   ]
  },
  {
   "cell_type": "code",
   "execution_count": 6,
   "metadata": {},
   "outputs": [
    {
     "name": "stdout",
     "output_type": "stream",
     "text": [
      "Train on 60000 samples, validate on 10000 samples\n",
      "Epoch 1/20\n",
      "60000/60000 [==============================] - 11s 186us/step - loss: 0.2741 - acc: 0.9155 - val_loss: 0.1167 - val_acc: 0.9631\n",
      "Epoch 2/20\n",
      "60000/60000 [==============================] - 11s 176us/step - loss: 0.0923 - acc: 0.9721 - val_loss: 0.0912 - val_acc: 0.9729\n",
      "Epoch 3/20\n",
      "60000/60000 [==============================] - 10s 173us/step - loss: 0.0576 - acc: 0.9817 - val_loss: 0.1097 - val_acc: 0.9657\n",
      "Epoch 4/20\n",
      "60000/60000 [==============================] - 11s 180us/step - loss: 0.0397 - acc: 0.9872 - val_loss: 0.0748 - val_acc: 0.9770\n",
      "Epoch 5/20\n",
      "60000/60000 [==============================] - 11s 178us/step - loss: 0.0282 - acc: 0.9907 - val_loss: 0.0770 - val_acc: 0.9788\n",
      "Epoch 6/20\n",
      "60000/60000 [==============================] - 10s 167us/step - loss: 0.0212 - acc: 0.9930 - val_loss: 0.0659 - val_acc: 0.9823\n",
      "Epoch 7/20\n",
      "60000/60000 [==============================] - 10s 161us/step - loss: 0.0173 - acc: 0.9945 - val_loss: 0.0701 - val_acc: 0.9836 0.0159 - ac\n",
      "Epoch 8/20\n",
      "60000/60000 [==============================] - 10s 172us/step - loss: 0.0124 - acc: 0.9957 - val_loss: 0.0847 - val_acc: 0.9793\n",
      "Epoch 9/20\n",
      "60000/60000 [==============================] - 11s 177us/step - loss: 0.0101 - acc: 0.9966 - val_loss: 0.1016 - val_acc: 0.9783\n",
      "Epoch 10/20\n",
      "60000/60000 [==============================] - 11s 176us/step - loss: 0.0098 - acc: 0.9970 - val_loss: 0.0837 - val_acc: 0.9814\n",
      "Epoch 11/20\n",
      "60000/60000 [==============================] - 10s 172us/step - loss: 0.0080 - acc: 0.9976 - val_loss: 0.1085 - val_acc: 0.9805\n",
      "Epoch 12/20\n",
      "60000/60000 [==============================] - 10s 170us/step - loss: 0.0069 - acc: 0.9978 - val_loss: 0.0985 - val_acc: 0.9822\n",
      "Epoch 13/20\n",
      "60000/60000 [==============================] - 10s 172us/step - loss: 0.0061 - acc: 0.9983 - val_loss: 0.1032 - val_acc: 0.9808\n",
      "Epoch 14/20\n",
      "60000/60000 [==============================] - 11s 175us/step - loss: 0.0058 - acc: 0.9982 - val_loss: 0.1364 - val_acc: 0.9767\n",
      "Epoch 15/20\n",
      "60000/60000 [==============================] - 10s 173us/step - loss: 0.0053 - acc: 0.9983 - val_loss: 0.1089 - val_acc: 0.9815\n",
      "Epoch 16/20\n",
      "60000/60000 [==============================] - 10s 173us/step - loss: 0.0059 - acc: 0.9984 - val_loss: 0.1002 - val_acc: 0.9836\n",
      "Epoch 17/20\n",
      "60000/60000 [==============================] - 10s 174us/step - loss: 0.0049 - acc: 0.9987 - val_loss: 0.1151 - val_acc: 0.9809\n",
      "Epoch 18/20\n",
      "60000/60000 [==============================] - 10s 174us/step - loss: 0.0048 - acc: 0.9987 - val_loss: 0.1182 - val_acc: 0.9842\n",
      "Epoch 19/20\n",
      "60000/60000 [==============================] - 10s 169us/step - loss: 0.0041 - acc: 0.9987 - val_loss: 0.1149 - val_acc: 0.9832\n",
      "Epoch 20/20\n",
      "60000/60000 [==============================] - 10s 172us/step - loss: 0.0040 - acc: 0.9988 - val_loss: 0.1483 - val_acc: 0.9790\n"
     ]
    }
   ],
   "source": [
    "#create and compile the model\n",
    "model = Sequential()\n",
    "model.add(Dense(512, activation='relu', input_shape=(dimData,)))\n",
    "model.add(Dense(512, activation='relu'))\n",
    "model.add(Dense(10, activation='softmax'))\n",
    "\n",
    "model.compile(optimizer='rmsprop', loss='categorical_crossentropy', metrics=['accuracy'])\n",
    "history = model.fit(train_data, train_labels_one_hot, batch_size=256, epochs=20, verbose=1,\n",
    "                   validation_data=(test_data, test_labels_one_hot))"
   ]
  },
  {
   "cell_type": "code",
   "execution_count": 7,
   "metadata": {},
   "outputs": [
    {
     "name": "stdout",
     "output_type": "stream",
     "text": [
      "10000/10000 [==============================] - 1s 140us/step\n",
      "Evaluation result on Test Data : Loss = 0.14831019039576818, accuracy = 0.979\n"
     ]
    }
   ],
   "source": [
    "[test_loss, test_acc] = model.evaluate(test_data, test_labels_one_hot)\n",
    "print(\"Evaluation result on Test Data : Loss = {}, accuracy = {}\".format(test_loss, test_acc))\n"
   ]
  },
  {
   "cell_type": "code",
   "execution_count": 10,
   "metadata": {},
   "outputs": [
    {
     "data": {
      "text/plain": [
       "<matplotlib.legend.Legend at 0x24efd348710>"
      ]
     },
     "execution_count": 10,
     "metadata": {},
     "output_type": "execute_result"
    },
    {
     "data": {
      "image/png": "[encoded data removed]",
      "text/plain": [
       "<Figure size 432x288 with 1 Axes>"
      ]
     },
     "metadata": {},
     "output_type": "display_data"
    }
   ],
   "source": [
    "N = 20\n",
    "plt.style.use(\"ggplot\")\n",
    "plt.figure()\n",
    "plt.plot(np.arange(0, N), history.history[\"loss\"], label=\"train_loss\")\n",
    "plt.plot(np.arange(0, N), history.history[\"val_loss\"], label=\"test_loss\")\n",
    "plt.plot(np.arange(0, N), history.history[\"acc\"], label=\"train_acc\")\n",
    "plt.plot(np.arange(0, N), history.history[\"val_acc\"], label=\"test_acc\")\n",
    "plt.title(\"Training Loss and Accuracy on Dataset\")\n",
    "plt.xlabel(\"Epoch #\")\n",
    "plt.ylabel(\"Loss/Accuracy\")\n",
    "plt.legend(loc=\"lower left\")"
   ]
  },
  {
   "cell_type": "markdown",
   "metadata": {},
   "source": [
    "So far we have the model was trained for 20 Epochs witha batch size of 256. The activation function used is Relu and the final layer is Softmax. In the below section we slightly modify the hyper parameters of the model - change the activation, add another dense, increase the batch size and finally evaluate the model accuracy"
   ]
  },
  {
   "cell_type": "code",
   "execution_count": 11,
   "metadata": {},
   "outputs": [
    {
     "name": "stdout",
     "output_type": "stream",
     "text": [
      "_________________________________________________________________\n",
      "Layer (type)                 Output Shape              Param #   \n",
      "=================================================================\n",
      "dense_1 (Dense)              (None, 512)               401920    \n",
      "_________________________________________________________________\n",
      "dense_2 (Dense)              (None, 512)               262656    \n",
      "_________________________________________________________________\n",
      "dense_3 (Dense)              (None, 10)                5130      \n",
      "=================================================================\n",
      "Total params: 669,706\n",
      "Trainable params: 669,706\n",
      "Non-trainable params: 0\n",
      "_________________________________________________________________\n"
     ]
    }
   ],
   "source": [
    "# But first check the previous model summary\n",
    "model.summary()"
   ]
  },
  {
   "cell_type": "code",
   "execution_count": 12,
   "metadata": {},
   "outputs": [
    {
     "name": "stdout",
     "output_type": "stream",
     "text": [
      "Train on 60000 samples, validate on 10000 samples\n",
      "Epoch 1/20\n",
      "60000/60000 [==============================] - 8s 127us/step - loss: 0.3864 - acc: 0.8800 - val_loss: 0.2033 - val_acc: 0.9340\n",
      "Epoch 2/20\n",
      "60000/60000 [==============================] - 7s 115us/step - loss: 0.1300 - acc: 0.9600 - val_loss: 0.0998 - val_acc: 0.9682\n",
      "Epoch 3/20\n",
      "60000/60000 [==============================] - 7s 115us/step - loss: 0.0785 - acc: 0.9753 - val_loss: 0.1001 - val_acc: 0.9698\n",
      "Epoch 4/20\n",
      "60000/60000 [==============================] - 7s 115us/step - loss: 0.0552 - acc: 0.9823 - val_loss: 0.1357 - val_acc: 0.9577\n",
      "Epoch 5/20\n",
      "60000/60000 [==============================] - 7s 117us/step - loss: 0.0376 - acc: 0.9881 - val_loss: 0.0741 - val_acc: 0.9759\n",
      "Epoch 6/20\n",
      "60000/60000 [==============================] - 7s 117us/step - loss: 0.0279 - acc: 0.9910 - val_loss: 0.0716 - val_acc: 0.9787\n",
      "Epoch 7/20\n",
      "60000/60000 [==============================] - 7s 117us/step - loss: 0.0210 - acc: 0.9931 - val_loss: 0.1082 - val_acc: 0.9714\n",
      "Epoch 8/20\n",
      "60000/60000 [==============================] - 7s 117us/step - loss: 0.0154 - acc: 0.9951 - val_loss: 0.1120 - val_acc: 0.9697\n",
      "Epoch 9/20\n",
      "60000/60000 [==============================] - 7s 116us/step - loss: 0.0130 - acc: 0.9957 - val_loss: 0.0832 - val_acc: 0.9778\n",
      "Epoch 10/20\n",
      "60000/60000 [==============================] - 7s 117us/step - loss: 0.0099 - acc: 0.9967 - val_loss: 0.0912 - val_acc: 0.9777\n",
      "Epoch 11/20\n",
      "60000/60000 [==============================] - 7s 119us/step - loss: 0.0083 - acc: 0.9973 - val_loss: 0.0706 - val_acc: 0.9814\n",
      "Epoch 12/20\n",
      "60000/60000 [==============================] - 7s 117us/step - loss: 0.0072 - acc: 0.9975 - val_loss: 0.0789 - val_acc: 0.9812\n",
      "Epoch 13/20\n",
      "60000/60000 [==============================] - 7s 117us/step - loss: 0.0069 - acc: 0.9978 - val_loss: 0.0683 - val_acc: 0.9837\n",
      "Epoch 14/20\n",
      "60000/60000 [==============================] - 7s 116us/step - loss: 0.0062 - acc: 0.9980 - val_loss: 0.0740 - val_acc: 0.9821\n",
      "Epoch 15/20\n",
      "60000/60000 [==============================] - 7s 117us/step - loss: 0.0058 - acc: 0.9984 - val_loss: 0.1228 - val_acc: 0.9751\n",
      "Epoch 16/20\n",
      "60000/60000 [==============================] - 7s 116us/step - loss: 0.0037 - acc: 0.9989 - val_loss: 0.0913 - val_acc: 0.9817\n",
      "Epoch 17/20\n",
      "60000/60000 [==============================] - 7s 116us/step - loss: 0.0032 - acc: 0.9992 - val_loss: 0.0903 - val_acc: 0.9812\n",
      "Epoch 18/20\n",
      "60000/60000 [==============================] - 7s 116us/step - loss: 0.0046 - acc: 0.9985 - val_loss: 0.0876 - val_acc: 0.9829\n",
      "Epoch 19/20\n",
      "60000/60000 [==============================] - 7s 117us/step - loss: 0.0041 - acc: 0.9989 - val_loss: 0.0851 - val_acc: 0.9827\n",
      "Epoch 20/20\n",
      "60000/60000 [==============================] - 7s 117us/step - loss: 0.0033 - acc: 0.9989 - val_loss: 0.0870 - val_acc: 0.9833\n"
     ]
    }
   ],
   "source": [
    "#create another model and compile it\n",
    "model = Sequential()\n",
    "model.add(Dense(512, activation='relu', input_shape=(dimData,)))\n",
    "model.add(Dense(256, activation='relu'))\n",
    "model.add(Dense(128, activation='tanh'))\n",
    "model.add(Dense(10, activation='softmax'))\n",
    "\n",
    "model.compile(optimizer='rmsprop', loss='categorical_crossentropy', metrics=['accuracy'])\n",
    "history = model.fit(train_data, train_labels_one_hot, batch_size=512, epochs=20, verbose=1,\n",
    "                   validation_data=(test_data, test_labels_one_hot))"
   ]
  },
  {
   "cell_type": "code",
   "execution_count": 13,
   "metadata": {},
   "outputs": [
    {
     "name": "stdout",
     "output_type": "stream",
     "text": [
      "_________________________________________________________________\n",
      "Layer (type)                 Output Shape              Param #   \n",
      "=================================================================\n",
      "dense_4 (Dense)              (None, 512)               401920    \n",
      "_________________________________________________________________\n",
      "dense_5 (Dense)              (None, 256)               131328    \n",
      "_________________________________________________________________\n",
      "dense_6 (Dense)              (None, 128)               32896     \n",
      "_________________________________________________________________\n",
      "dense_7 (Dense)              (None, 10)                1290      \n",
      "=================================================================\n",
      "Total params: 567,434\n",
      "Trainable params: 567,434\n",
      "Non-trainable params: 0\n",
      "_________________________________________________________________\n"
     ]
    }
   ],
   "source": [
    "model.summary()"
   ]
  },
  {
   "cell_type": "code",
   "execution_count": 14,
   "metadata": {},
   "outputs": [
    {
     "data": {
      "text/plain": [
       "<matplotlib.legend.Legend at 0x24efd6dcd30>"
      ]
     },
     "execution_count": 14,
     "metadata": {},
     "output_type": "execute_result"
    },
    {
     "data": {
      "image/png": "[encoded data removed]",
      "text/plain": [
       "<Figure size 432x288 with 1 Axes>"
      ]
     },
     "metadata": {},
     "output_type": "display_data"
    }
   ],
   "source": [
    "N = 20\n",
    "plt.style.use(\"ggplot\")\n",
    "plt.figure()\n",
    "plt.plot(np.arange(0, N), history.history[\"loss\"], label=\"train_loss\")\n",
    "plt.plot(np.arange(0, N), history.history[\"val_loss\"], label=\"test_loss\")\n",
    "plt.plot(np.arange(0, N), history.history[\"acc\"], label=\"train_acc\")\n",
    "plt.plot(np.arange(0, N), history.history[\"val_acc\"], label=\"test_acc\")\n",
    "plt.title(\"Training Loss and Accuracy on Dataset\")\n",
    "plt.xlabel(\"Epoch #\")\n",
    "plt.ylabel(\"Loss/Accuracy\")\n",
    "plt.legend(loc=\"lower left\")"
   ]
  },
  {
   "cell_type": "code",
   "execution_count": 16,
   "metadata": {},
   "outputs": [
    {
     "name": "stdout",
     "output_type": "stream",
     "text": [
      "10000/10000 [==============================] - 1s 124us/step\n",
      "Evaluation result on Test Data : Loss = 0.08696059565994665, accuracy = 0.9833\n"
     ]
    }
   ],
   "source": [
    "[test_loss, test_acc] = model.evaluate(test_data, test_labels_one_hot)\n",
    "print(\"Evaluation result on Test Data : Loss = {}, accuracy = {}\".format(test_loss, test_acc))"
   ]
  },
  {
   "cell_type": "code",
   "execution_count": 15,
   "metadata": {},
   "outputs": [
    {
     "data": {
      "image/png": "[encoded data removed]",
      "text/plain": [
       "<Figure size 432x288 with 1 Axes>"
      ]
     },
     "metadata": {},
     "output_type": "display_data"
    }
   ],
   "source": [
    "plt.imshow(test_images[0,:,:],cmap='gray')\n",
    "plt.title('Ground Truth : {}'.format(test_labels[0]))\n",
    "plt.show()"
   ]
  },
  {
   "cell_type": "code",
   "execution_count": 40,
   "metadata": {},
   "outputs": [
    {
     "name": "stdout",
     "output_type": "stream",
     "text": [
      "[[4.2259443e-10 3.8060335e-08 7.5764195e-09 7.4969726e-08 2.0498710e-08\n",
      "  2.8024010e-09 8.0959228e-10 9.9999988e-01 1.8694124e-10 4.8435123e-08]]\n"
     ]
    },
    {
     "data": {
      "text/plain": [
       "(array([0.        , 0.        , 0.        , 0.        , 0.        ,\n",
       "        0.        , 0.        , 1.11111111, 0.        , 0.        ]),\n",
       " array([0. , 0.9, 1.8, 2.7, 3.6, 4.5, 5.4, 6.3, 7.2, 8.1, 9. ]),\n",
       " <a list of 10 Patch objects>)"
      ]
     },
     "execution_count": 40,
     "metadata": {},
     "output_type": "execute_result"
    },
    {
     "data": {
      "image/png": "[encoded data removed]",
      "text/plain": [
       "<Figure size 432x288 with 1 Axes>"
      ]
     },
     "metadata": {},
     "output_type": "display_data"
    }
   ],
   "source": [
    "pred = model.predict_classes(test_data[[0],:])\n",
    "vals=model.predict(test_data[[0],:])\n",
    "print(vals)\n",
    "plt.hist(pred, bins=10, density=1, range=[0,9], align='mid')\n"
   ]
  },
  {
   "cell_type": "markdown",
   "metadata": {},
   "source": [
    "### Remarks\n",
    "- Try changing from Tanh to sigmoid\n",
    "- Try reducing the total params and check the accuracy\n",
    "- Save the model, load and add another layer "
   ]
  }
 ],
 "metadata": {
  "kernelspec": {
   "display_name": "Python 3",
   "language": "python",
   "name": "python3"
  },
  "language_info": {
   "codemirror_mode": {
    "name": "ipython",
    "version": 3
   },
   "file_extension": ".py",
   "mimetype": "text/x-python",
   "name": "python",
   "nbconvert_exporter": "python",
   "pygments_lexer": "ipython3",
   "version": "3.6.6"
  }
 },
 "nbformat": 4,
 "nbformat_minor": 1
}
