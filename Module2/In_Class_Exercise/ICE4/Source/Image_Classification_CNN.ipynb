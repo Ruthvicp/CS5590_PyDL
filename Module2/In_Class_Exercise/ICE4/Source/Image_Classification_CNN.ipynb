{
 "cells": [
  {
   "cell_type": "code",
   "execution_count": 0,
   "metadata": {
    "colab": {},
    "colab_type": "code",
    "id": "w7OsM0fMqyH2"
   },
   "outputs": [],
   "source": [
    "# Simple CNN model for CIFAR-10\n",
    "import numpy\n",
    "from keras.datasets import cifar10\n",
    "from keras.models import Sequential\n",
    "from keras.layers import Dense\n",
    "from keras.layers import Dropout\n",
    "from keras.layers import Flatten\n",
    "from keras.constraints import maxnorm\n",
    "from keras.optimizers import SGD\n",
    "from keras.layers.convolutional import Conv2D\n",
    "from keras.layers.convolutional import MaxPooling2D\n",
    "from keras.utils import np_utils\n",
    "from keras import backend as K\n",
    "K.set_image_dim_ordering('th')"
   ]
  },
  {
   "cell_type": "code",
   "execution_count": 2,
   "metadata": {
    "colab": {
     "base_uri": "https://localhost:8080/",
     "height": 52
    },
    "colab_type": "code",
    "id": "lNkxC-MDrBew",
    "outputId": "52320cbc-b037-4fa4-a2b0-89f2b24bb3f5"
   },
   "outputs": [
    {
     "name": "stdout",
     "output_type": "stream",
     "text": [
      "Downloading data from https://www.cs.toronto.edu/~kriz/cifar-10-python.tar.gz\n",
      "170500096/170498071 [==============================] - 9s 0us/step\n"
     ]
    }
   ],
   "source": [
    "# fix random seed for reproducibility\n",
    "seed = 7\n",
    "numpy.random.seed(seed)\n",
    "# load data\n",
    "(X_train, y_train), (X_test, y_test) = cifar10.load_data()"
   ]
  },
  {
   "cell_type": "code",
   "execution_count": 0,
   "metadata": {
    "colab": {},
    "colab_type": "code",
    "id": "7Ro0JRzOrQkR"
   },
   "outputs": [],
   "source": [
    "# normalize inputs from 0-255 to 0.0-1.0\n",
    "X_train = X_train.astype('float32')\n",
    "X_test = X_test.astype('float32')\n",
    "X_train = X_train / 255.0\n",
    "X_test = X_test / 255.0\n"
   ]
  },
  {
   "cell_type": "code",
   "execution_count": 0,
   "metadata": {
    "colab": {},
    "colab_type": "code",
    "id": "KvbJcDBIrWzk"
   },
   "outputs": [],
   "source": [
    "# one hot encode outputs\n",
    "y_train = np_utils.to_categorical(y_train)\n",
    "y_test = np_utils.to_categorical(y_test)\n",
    "num_classes = y_test.shape[1]\n"
   ]
  },
  {
   "cell_type": "code",
   "execution_count": 5,
   "metadata": {
    "colab": {
     "base_uri": "https://localhost:8080/",
     "height": 144
    },
    "colab_type": "code",
    "id": "JKTPKNkCraqS",
    "outputId": "c5d6cc7e-eb3c-4bdc-b709-8941df7586ee"
   },
   "outputs": [
    {
     "name": "stdout",
     "output_type": "stream",
     "text": [
      "WARNING:tensorflow:From /usr/local/lib/python3.6/dist-packages/tensorflow/python/framework/op_def_library.py:263: colocate_with (from tensorflow.python.framework.ops) is deprecated and will be removed in a future version.\n",
      "Instructions for updating:\n",
      "Colocations handled automatically by placer.\n",
      "WARNING:tensorflow:From /usr/local/lib/python3.6/dist-packages/keras/backend/tensorflow_backend.py:3445: calling dropout (from tensorflow.python.ops.nn_ops) with keep_prob is deprecated and will be removed in a future version.\n",
      "Instructions for updating:\n",
      "Please use `rate` instead of `keep_prob`. Rate should be set to `rate = 1 - keep_prob`.\n"
     ]
    }
   ],
   "source": [
    "# Create the model\n",
    "model = Sequential()\n",
    "model.add(Conv2D(32, (3, 3), input_shape=(3, 32, 32), padding='same', activation='relu', kernel_constraint=maxnorm(3)))\n",
    "model.add(Dropout(0.2))\n",
    "model.add(Conv2D(32, (3, 3), activation='relu', padding='same', kernel_constraint=maxnorm(3)))\n",
    "model.add(MaxPooling2D(pool_size=(2, 2)))\n",
    "model.add(Flatten())\n",
    "model.add(Dense(512, activation='relu', kernel_constraint=maxnorm(3)))\n",
    "model.add(Dropout(0.5))\n",
    "model.add(Dense(num_classes, activation='softmax'))\n"
   ]
  },
  {
   "cell_type": "code",
   "execution_count": 0,
   "metadata": {
    "colab": {},
    "colab_type": "code",
    "id": "m-ftL0Tau1vO"
   },
   "outputs": [],
   "source": [
    "import keras\n",
    "tbCallBack= keras.callbacks.TensorBoard(log_dir='./Graph', write_images=True)\n"
   ]
  },
  {
   "cell_type": "code",
   "execution_count": 13,
   "metadata": {
    "colab": {
     "base_uri": "https://localhost:8080/",
     "height": 444
    },
    "colab_type": "code",
    "id": "UU3yUmAIrgC-",
    "outputId": "774576a6-67ef-4a62-ad40-9ffcf7fdbfe7"
   },
   "outputs": [
    {
     "name": "stdout",
     "output_type": "stream",
     "text": [
      "_________________________________________________________________\n",
      "Layer (type)                 Output Shape              Param #   \n",
      "=================================================================\n",
      "conv2d_1 (Conv2D)            (None, 32, 32, 32)        896       \n",
      "_________________________________________________________________\n",
      "dropout_1 (Dropout)          (None, 32, 32, 32)        0         \n",
      "_________________________________________________________________\n",
      "conv2d_2 (Conv2D)            (None, 32, 32, 32)        9248      \n",
      "_________________________________________________________________\n",
      "max_pooling2d_1 (MaxPooling2 (None, 32, 16, 16)        0         \n",
      "_________________________________________________________________\n",
      "flatten_1 (Flatten)          (None, 8192)              0         \n",
      "_________________________________________________________________\n",
      "dense_1 (Dense)              (None, 512)               4194816   \n",
      "_________________________________________________________________\n",
      "dropout_2 (Dropout)          (None, 512)               0         \n",
      "_________________________________________________________________\n",
      "dense_2 (Dense)              (None, 10)                5130      \n",
      "=================================================================\n",
      "Total params: 4,210,090\n",
      "Trainable params: 4,210,090\n",
      "Non-trainable params: 0\n",
      "_________________________________________________________________\n",
      "None\n"
     ]
    }
   ],
   "source": [
    "# Compile model\n",
    "epochs = 25\n",
    "lrate = 0.01\n",
    "decay = lrate/epochs\n",
    "sgd = SGD(lr=lrate, momentum=0.9, decay=decay, nesterov=False)\n",
    "model.compile(loss='categorical_crossentropy', optimizer=sgd, metrics=['accuracy'])\n",
    "print(model.summary())\n"
   ]
  },
  {
   "cell_type": "code",
   "execution_count": 14,
   "metadata": {
    "colab": {
     "base_uri": "https://localhost:8080/",
     "height": 961
    },
    "colab_type": "code",
    "id": "Gurbf2Y5rmxj",
    "outputId": "2ece2947-a6f0-4a98-baf7-a5b08559dcf0"
   },
   "outputs": [
    {
     "name": "stdout",
     "output_type": "stream",
     "text": [
      "Train on 50000 samples, validate on 10000 samples\n",
      "Epoch 1/25\n",
      "50000/50000 [==============================] - 10s 204us/step - loss: 0.8147 - acc: 0.7118 - val_loss: 0.9516 - val_acc: 0.6760\n",
      "Epoch 2/25\n",
      "50000/50000 [==============================] - 10s 203us/step - loss: 0.5716 - acc: 0.7994 - val_loss: 1.0123 - val_acc: 0.6788\n",
      "Epoch 3/25\n",
      "50000/50000 [==============================] - 10s 200us/step - loss: 0.4275 - acc: 0.8483 - val_loss: 1.0286 - val_acc: 0.6995\n",
      "Epoch 4/25\n",
      "50000/50000 [==============================] - 10s 204us/step - loss: 0.3353 - acc: 0.8827 - val_loss: 1.0235 - val_acc: 0.7011\n",
      "Epoch 5/25\n",
      "50000/50000 [==============================] - 10s 210us/step - loss: 0.2750 - acc: 0.9026 - val_loss: 1.0521 - val_acc: 0.7101\n",
      "Epoch 6/25\n",
      "50000/50000 [==============================] - 10s 201us/step - loss: 0.2326 - acc: 0.9174 - val_loss: 1.0931 - val_acc: 0.7118\n",
      "Epoch 7/25\n",
      "50000/50000 [==============================] - 10s 199us/step - loss: 0.1989 - acc: 0.9307 - val_loss: 1.1702 - val_acc: 0.7102\n",
      "Epoch 8/25\n",
      "50000/50000 [==============================] - 10s 208us/step - loss: 0.1761 - acc: 0.9392 - val_loss: 1.1461 - val_acc: 0.7157\n",
      "Epoch 9/25\n",
      "50000/50000 [==============================] - 10s 199us/step - loss: 0.1592 - acc: 0.9451 - val_loss: 1.1664 - val_acc: 0.7149\n",
      "Epoch 10/25\n",
      "50000/50000 [==============================] - 10s 198us/step - loss: 0.1450 - acc: 0.9494 - val_loss: 1.1945 - val_acc: 0.7189\n",
      "Epoch 11/25\n",
      "50000/50000 [==============================] - 10s 199us/step - loss: 0.1327 - acc: 0.9545 - val_loss: 1.2169 - val_acc: 0.7178\n",
      "Epoch 12/25\n",
      "50000/50000 [==============================] - 10s 205us/step - loss: 0.1245 - acc: 0.9569 - val_loss: 1.2150 - val_acc: 0.7186\n",
      "Epoch 13/25\n",
      "50000/50000 [==============================] - 10s 209us/step - loss: 0.1121 - acc: 0.9617 - val_loss: 1.2655 - val_acc: 0.7133\n",
      "Epoch 14/25\n",
      "50000/50000 [==============================] - 10s 201us/step - loss: 0.1071 - acc: 0.9627 - val_loss: 1.2536 - val_acc: 0.7195\n",
      "Epoch 15/25\n",
      "50000/50000 [==============================] - 10s 200us/step - loss: 0.1003 - acc: 0.9658 - val_loss: 1.2938 - val_acc: 0.7195\n",
      "Epoch 16/25\n",
      "50000/50000 [==============================] - 10s 200us/step - loss: 0.0972 - acc: 0.9667 - val_loss: 1.2881 - val_acc: 0.7178\n",
      "Epoch 17/25\n",
      "50000/50000 [==============================] - 10s 200us/step - loss: 0.0897 - acc: 0.9695 - val_loss: 1.3073 - val_acc: 0.7202\n",
      "Epoch 18/25\n",
      "50000/50000 [==============================] - 10s 200us/step - loss: 0.0851 - acc: 0.9711 - val_loss: 1.3541 - val_acc: 0.7185\n",
      "Epoch 19/25\n",
      "50000/50000 [==============================] - 10s 200us/step - loss: 0.0837 - acc: 0.9718 - val_loss: 1.3143 - val_acc: 0.7215\n",
      "Epoch 20/25\n",
      "50000/50000 [==============================] - 10s 204us/step - loss: 0.0804 - acc: 0.9719 - val_loss: 1.3365 - val_acc: 0.7195\n",
      "Epoch 21/25\n",
      "50000/50000 [==============================] - 10s 207us/step - loss: 0.0783 - acc: 0.9736 - val_loss: 1.3370 - val_acc: 0.7217\n",
      "Epoch 22/25\n",
      "50000/50000 [==============================] - 10s 200us/step - loss: 0.0752 - acc: 0.9745 - val_loss: 1.3554 - val_acc: 0.7194\n",
      "Epoch 23/25\n",
      "50000/50000 [==============================] - 10s 200us/step - loss: 0.0752 - acc: 0.9745 - val_loss: 1.3441 - val_acc: 0.7194\n",
      "Epoch 24/25\n",
      "50000/50000 [==============================] - 10s 198us/step - loss: 0.0704 - acc: 0.9766 - val_loss: 1.3562 - val_acc: 0.7175\n",
      "Epoch 25/25\n",
      "50000/50000 [==============================] - 10s 198us/step - loss: 0.0700 - acc: 0.9761 - val_loss: 1.3528 - val_acc: 0.7212\n"
     ]
    },
    {
     "data": {
      "text/plain": [
       "<keras.callbacks.History at 0x7fc84be9d518>"
      ]
     },
     "execution_count": 14,
     "metadata": {
      "tags": []
     },
     "output_type": "execute_result"
    }
   ],
   "source": [
    "model.fit(X_train, y_train, validation_data=(X_test, y_test), epochs=epochs, batch_size=32, callbacks=[tbCallBack])"
   ]
  },
  {
   "cell_type": "code",
   "execution_count": 15,
   "metadata": {
    "colab": {
     "base_uri": "https://localhost:8080/",
     "height": 35
    },
    "colab_type": "code",
    "id": "5YTmeoBVstIi",
    "outputId": "31f0baa3-9615-476a-b1b7-50a8a6f71b25"
   },
   "outputs": [
    {
     "name": "stdout",
     "output_type": "stream",
     "text": [
      "Accuracy: 72.12%\n"
     ]
    }
   ],
   "source": [
    "# Final evaluation of the model\n",
    "scores = model.evaluate(X_test, y_test, verbose=0)\n",
    "print(\"Accuracy: %.2f%%\" % (scores[1]*100))\n",
    "print(\"loss: %.2f%%\" % (scores[0]*100))"
   ]
  },
  {
   "cell_type": "code",
   "execution_count": 0,
   "metadata": {
    "colab": {},
    "colab_type": "code",
    "id": "bUrIjgO4zFJw"
   },
   "outputs": [],
   "source": [
    "model = Sequential()\n",
    "model.add(Conv2D(32, (3, 3), input_shape=(3, 32, 32), padding='same', activation='relu', kernel_constraint=maxnorm(3)))\n",
    "model.add(Dropout(0.2))\n",
    "model.add(Conv2D(32, (3, 3), activation='relu', padding='same', kernel_constraint=maxnorm(3)))\n",
    "model.add(MaxPooling2D(pool_size=(2, 2)))\n",
    "\n",
    "model.add(Conv2D(64, (3, 3), activation='relu', padding='same', kernel_constraint=maxnorm(3)))\n",
    "model.add(Dropout(0.2))\n",
    "model.add(Conv2D(64, (3, 3), activation='relu', padding='same', kernel_constraint=maxnorm(3)))\n",
    "model.add(MaxPooling2D(pool_size=(2, 2)))\n",
    "model.add(Conv2D(128, (3, 3), activation='relu', padding='same', kernel_constraint=maxnorm(3)))\n",
    "model.add(Dropout(0.2))\n",
    "model.add(Conv2D(128, (3, 3), activation='relu', padding='same', kernel_constraint=maxnorm(3)))\n",
    "model.add(MaxPooling2D(pool_size=(2, 2)))\n",
    "# flattening the matrix into vector form\n",
    "model.add(Flatten())\n",
    "model.add(Dropout(0.2))\n",
    "model.add(Dense(1024, activation='relu', kernel_constraint=maxnorm(3)))\n",
    "model.add(Dropout(0.2))\n",
    "model.add(Dense(512, activation='relu', kernel_constraint=maxnorm(3)))\n",
    "model.add(Dropout(0.2))\n",
    "model.add(Dense(num_classes, activation='softmax'))"
   ]
  },
  {
   "cell_type": "code",
   "execution_count": 19,
   "metadata": {
    "colab": {
     "base_uri": "https://localhost:8080/",
     "height": 835
    },
    "colab_type": "code",
    "id": "6azMxlWBzJeY",
    "outputId": "b17442c7-1d88-4c00-8525-db3b340e80b0"
   },
   "outputs": [
    {
     "name": "stdout",
     "output_type": "stream",
     "text": [
      "_________________________________________________________________\n",
      "Layer (type)                 Output Shape              Param #   \n",
      "=================================================================\n",
      "conv2d_3 (Conv2D)            (None, 32, 32, 32)        896       \n",
      "_________________________________________________________________\n",
      "dropout_3 (Dropout)          (None, 32, 32, 32)        0         \n",
      "_________________________________________________________________\n",
      "conv2d_4 (Conv2D)            (None, 32, 32, 32)        9248      \n",
      "_________________________________________________________________\n",
      "max_pooling2d_2 (MaxPooling2 (None, 32, 16, 16)        0         \n",
      "_________________________________________________________________\n",
      "conv2d_5 (Conv2D)            (None, 64, 16, 16)        18496     \n",
      "_________________________________________________________________\n",
      "dropout_4 (Dropout)          (None, 64, 16, 16)        0         \n",
      "_________________________________________________________________\n",
      "conv2d_6 (Conv2D)            (None, 64, 16, 16)        36928     \n",
      "_________________________________________________________________\n",
      "max_pooling2d_3 (MaxPooling2 (None, 64, 8, 8)          0         \n",
      "_________________________________________________________________\n",
      "conv2d_7 (Conv2D)            (None, 128, 8, 8)         73856     \n",
      "_________________________________________________________________\n",
      "dropout_5 (Dropout)          (None, 128, 8, 8)         0         \n",
      "_________________________________________________________________\n",
      "conv2d_8 (Conv2D)            (None, 128, 8, 8)         147584    \n",
      "_________________________________________________________________\n",
      "max_pooling2d_4 (MaxPooling2 (None, 128, 4, 4)         0         \n",
      "_________________________________________________________________\n",
      "flatten_2 (Flatten)          (None, 2048)              0         \n",
      "_________________________________________________________________\n",
      "dropout_6 (Dropout)          (None, 2048)              0         \n",
      "_________________________________________________________________\n",
      "dense_3 (Dense)              (None, 1024)              2098176   \n",
      "_________________________________________________________________\n",
      "dropout_7 (Dropout)          (None, 1024)              0         \n",
      "_________________________________________________________________\n",
      "dense_4 (Dense)              (None, 512)               524800    \n",
      "_________________________________________________________________\n",
      "dropout_8 (Dropout)          (None, 512)               0         \n",
      "_________________________________________________________________\n",
      "dense_5 (Dense)              (None, 10)                5130      \n",
      "=================================================================\n",
      "Total params: 2,915,114\n",
      "Trainable params: 2,915,114\n",
      "Non-trainable params: 0\n",
      "_________________________________________________________________\n",
      "None\n"
     ]
    }
   ],
   "source": [
    "# Compile model\n",
    "epochs = 25\n",
    "lrate = 0.01\n",
    "decay = lrate/epochs\n",
    "sgd = SGD(lr=lrate, momentum=0.9, decay=decay, nesterov=False)\n",
    "model.compile(loss='categorical_crossentropy', optimizer=sgd, metrics=['accuracy'])\n",
    "print(model.summary())"
   ]
  },
  {
   "cell_type": "code",
   "execution_count": 20,
   "metadata": {
    "colab": {
     "base_uri": "https://localhost:8080/",
     "height": 961
    },
    "colab_type": "code",
    "id": "03dmFqC2z_Uz",
    "outputId": "7639c6bf-f044-4e35-e0a9-3a8ee7eed90c"
   },
   "outputs": [
    {
     "name": "stdout",
     "output_type": "stream",
     "text": [
      "Train on 50000 samples, validate on 10000 samples\n",
      "Epoch 1/25\n",
      "50000/50000 [==============================] - 13s 259us/step - loss: 1.9103 - acc: 0.2932 - val_loss: 1.5403 - val_acc: 0.4327\n",
      "Epoch 2/25\n",
      "50000/50000 [==============================] - 13s 258us/step - loss: 1.4194 - acc: 0.4822 - val_loss: 1.3054 - val_acc: 0.5204\n",
      "Epoch 3/25\n",
      "50000/50000 [==============================] - 13s 254us/step - loss: 1.1792 - acc: 0.5765 - val_loss: 1.0766 - val_acc: 0.6088\n",
      "Epoch 4/25\n",
      "50000/50000 [==============================] - 13s 251us/step - loss: 1.0216 - acc: 0.6365 - val_loss: 1.0025 - val_acc: 0.6462\n",
      "Epoch 5/25\n",
      "50000/50000 [==============================] - 13s 251us/step - loss: 0.9052 - acc: 0.6800 - val_loss: 0.8534 - val_acc: 0.6982\n",
      "Epoch 6/25\n",
      "50000/50000 [==============================] - 13s 259us/step - loss: 0.8270 - acc: 0.7078 - val_loss: 0.7984 - val_acc: 0.7173\n",
      "Epoch 7/25\n",
      "50000/50000 [==============================] - 12s 250us/step - loss: 0.7677 - acc: 0.7302 - val_loss: 0.7867 - val_acc: 0.7236\n",
      "Epoch 8/25\n",
      "50000/50000 [==============================] - 13s 253us/step - loss: 0.7056 - acc: 0.7504 - val_loss: 0.7093 - val_acc: 0.7551\n",
      "Epoch 9/25\n",
      "50000/50000 [==============================] - 13s 258us/step - loss: 0.6690 - acc: 0.7624 - val_loss: 0.7054 - val_acc: 0.7529\n",
      "Epoch 10/25\n",
      "50000/50000 [==============================] - 13s 266us/step - loss: 0.6346 - acc: 0.7760 - val_loss: 0.6905 - val_acc: 0.7592\n",
      "Epoch 11/25\n",
      "50000/50000 [==============================] - 13s 255us/step - loss: 0.5983 - acc: 0.7888 - val_loss: 0.6559 - val_acc: 0.7731\n",
      "Epoch 12/25\n",
      "50000/50000 [==============================] - 13s 256us/step - loss: 0.5668 - acc: 0.7981 - val_loss: 0.6628 - val_acc: 0.7716\n",
      "Epoch 13/25\n",
      "50000/50000 [==============================] - 13s 255us/step - loss: 0.5394 - acc: 0.8091 - val_loss: 0.6339 - val_acc: 0.7799\n",
      "Epoch 14/25\n",
      "50000/50000 [==============================] - 13s 255us/step - loss: 0.5180 - acc: 0.8156 - val_loss: 0.6206 - val_acc: 0.7821\n",
      "Epoch 15/25\n",
      "50000/50000 [==============================] - 13s 268us/step - loss: 0.4963 - acc: 0.8229 - val_loss: 0.6315 - val_acc: 0.7847\n",
      "Epoch 16/25\n",
      "50000/50000 [==============================] - 13s 256us/step - loss: 0.4744 - acc: 0.8313 - val_loss: 0.6150 - val_acc: 0.7884\n",
      "Epoch 17/25\n",
      "50000/50000 [==============================] - 13s 255us/step - loss: 0.4577 - acc: 0.8362 - val_loss: 0.6059 - val_acc: 0.7887\n",
      "Epoch 18/25\n",
      "50000/50000 [==============================] - 13s 255us/step - loss: 0.4356 - acc: 0.8464 - val_loss: 0.6236 - val_acc: 0.7887\n",
      "Epoch 19/25\n",
      "50000/50000 [==============================] - 13s 256us/step - loss: 0.4225 - acc: 0.8504 - val_loss: 0.6133 - val_acc: 0.7936\n",
      "Epoch 20/25\n",
      "50000/50000 [==============================] - 13s 255us/step - loss: 0.4078 - acc: 0.8541 - val_loss: 0.5980 - val_acc: 0.7987\n",
      "Epoch 21/25\n",
      "50000/50000 [==============================] - 13s 267us/step - loss: 0.3944 - acc: 0.8603 - val_loss: 0.6095 - val_acc: 0.7934\n",
      "Epoch 22/25\n",
      "50000/50000 [==============================] - 13s 257us/step - loss: 0.3754 - acc: 0.8675 - val_loss: 0.6003 - val_acc: 0.7966\n",
      "Epoch 23/25\n",
      "50000/50000 [==============================] - 13s 269us/step - loss: 0.3641 - acc: 0.8690 - val_loss: 0.6124 - val_acc: 0.7969\n",
      "Epoch 24/25\n",
      "50000/50000 [==============================] - 13s 260us/step - loss: 0.3535 - acc: 0.8742 - val_loss: 0.6173 - val_acc: 0.7959\n",
      "Epoch 25/25\n",
      "50000/50000 [==============================] - 13s 255us/step - loss: 0.3428 - acc: 0.8763 - val_loss: 0.6012 - val_acc: 0.8023\n"
     ]
    },
    {
     "data": {
      "text/plain": [
       "<keras.callbacks.History at 0x7fc84a498128>"
      ]
     },
     "execution_count": 20,
     "metadata": {
      "tags": []
     },
     "output_type": "execute_result"
    }
   ],
   "source": [
    "model.fit(X_train, y_train, validation_data=(X_test, y_test), epochs=epochs, batch_size=32,\\\n",
    "          callbacks=[tbCallBack])"
   ]
  },
  {
   "cell_type": "code",
   "execution_count": 22,
   "metadata": {
    "colab": {
     "base_uri": "https://localhost:8080/",
     "height": 52
    },
    "colab_type": "code",
    "id": "ZzehY07f0mY-",
    "outputId": "f428c057-2e7b-4829-c781-575746c7a417"
   },
   "outputs": [
    {
     "name": "stdout",
     "output_type": "stream",
     "text": [
      "Accuracy: 80.23%\n",
      "Loss: 60.12%\n"
     ]
    }
   ],
   "source": [
    "# Final evaluation of the model\n",
    "scores = model.evaluate(X_test, y_test, verbose=0)\n",
    "print(\"Accuracy: %.2f%%\" % (scores[1]*100))\n",
    "print(\"Loss: %.2f%%\" % (scores[0]*100))"
   ]
  },
  {
   "cell_type": "code",
   "execution_count": 35,
   "metadata": {
    "colab": {
     "base_uri": "https://localhost:8080/",
     "height": 52
    },
    "colab_type": "code",
    "id": "RgTztBr11W8E",
    "outputId": "b848d5a8-6b79-48fc-f613-1ed3052d9c22"
   },
   "outputs": [
    {
     "name": "stdout",
     "output_type": "stream",
     "text": [
      "(10000, 3, 32, 32)\n",
      "(10000, 10)\n"
     ]
    }
   ],
   "source": [
    "print(X_test.shape)\n",
    "print(y_test.shape)"
   ]
  },
  {
   "cell_type": "code",
   "execution_count": 39,
   "metadata": {
    "colab": {
     "base_uri": "https://localhost:8080/",
     "height": 124
    },
    "colab_type": "code",
    "id": "QMNvR6vu1zMd",
    "outputId": "0b0d62bd-0925-4b17-b47e-ca5c1895bdb0"
   },
   "outputs": [
    {
     "name": "stdout",
     "output_type": "stream",
     "text": [
      "   ImageId  Label\n",
      "0        1      3\n",
      "1        2      8\n",
      "2        3      8\n",
      "3        4      0\n",
      "4        5      6\n"
     ]
    }
   ],
   "source": [
    "import pandas as pd\n",
    "prediction = pd.DataFrame()\n",
    "imageid = []\n",
    "for i in range(len(X_test)):\n",
    "    i = i + 1\n",
    "    imageid.append(i)\n",
    "prediction[\"ImageId\"] = imageid\n",
    "prediction[\"Label\"] = model.predict_classes(X_test, verbose=0)\n",
    "print(prediction.head())\n"
   ]
  },
  {
   "cell_type": "code",
   "execution_count": 42,
   "metadata": {
    "colab": {
     "base_uri": "https://localhost:8080/",
     "height": 35
    },
    "colab_type": "code",
    "id": "g6M7mgva4r9w",
    "outputId": "206c2562-d940-4f58-8ecb-a6d8d24dafb6"
   },
   "outputs": [
    {
     "name": "stdout",
     "output_type": "stream",
     "text": [
      "Actual labels for first five images: [3 8 8 0 6]\n"
     ]
    }
   ],
   "source": [
    "import numpy as np  \n",
    "a  = np.array(y_test[0:5])\n",
    "print('Actual labels for first five images: {0}'.format(np.argmax(a, axis=1)))"
   ]
  },
  {
   "cell_type": "markdown",
   "metadata": {},
   "source": [
    "### Accuracy Plot from Tensorboard\n",
    "![Accuracy_plot](https://github.com/Ruthvicp/CS5590_PyDL/raw/master/Module2/In_Class_Exercise/ICE4/Documentation/1.JPG)"
   ]
  },
  {
   "cell_type": "markdown",
   "metadata": {},
   "source": [
    "### Loss plot from tensorboard\n",
    "\n",
    "![Loss_plot](https://github.com/Ruthvicp/CS5590_PyDL/raw/master/Module2/In_Class_Exercise/ICE4/Documentation/2.JPG)"
   ]
  },
  {
   "cell_type": "markdown",
   "metadata": {},
   "source": [
    "### Remarks\n",
    "- The second model has better accuracy (82%) compared to previous model (72%)\n",
    "- The trade off here is, the second model takes a bit long to train\n",
    "- Predicted labels for first 5 images = [3 8 8 0 6]\n",
    "- Actual labels for first 5 images = [3 8 8 0 6]"
   ]
  },
  {
   "cell_type": "code",
   "execution_count": null,
   "metadata": {},
   "outputs": [],
   "source": []
  }
 ],
 "metadata": {
  "accelerator": "GPU",
  "colab": {
   "name": "Untitled1.ipynb",
   "provenance": [],
   "version": "0.3.2"
  },
  "kernelspec": {
   "display_name": "Python 3",
   "language": "python",
   "name": "python3"
  },
  "language_info": {
   "codemirror_mode": {
    "name": "ipython",
    "version": 3
   },
   "file_extension": ".py",
   "mimetype": "text/x-python",
   "name": "python",
   "nbconvert_exporter": "python",
   "pygments_lexer": "ipython3",
   "version": "3.6.6"
  }
 },
 "nbformat": 4,
 "nbformat_minor": 1
}
